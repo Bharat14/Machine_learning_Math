{
 "cells": [
  {
   "cell_type": "code",
   "execution_count": 1,
   "metadata": {
    "collapsed": true
   },
   "outputs": [],
   "source": [
    "from sklearn.datasets import load_iris\n",
    "from sklearn.metrics import accuracy_score\n",
    "import numpy as nu\n",
    "from sklearn.model_selection import train_test_split\n",
    "import matplotlib.pyplot as plt\n",
    "from sklearn.preprocessing import scale\n",
    "%matplotlib inline"
   ]
  },
  {
   "cell_type": "code",
   "execution_count": 2,
   "metadata": {
    "collapsed": true
   },
   "outputs": [],
   "source": [
    "iris=load_iris()"
   ]
  },
  {
   "cell_type": "code",
   "execution_count": 3,
   "metadata": {},
   "outputs": [
    {
     "data": {
      "text/plain": [
       "['sepal length (cm)',\n",
       " 'sepal width (cm)',\n",
       " 'petal length (cm)',\n",
       " 'petal width (cm)']"
      ]
     },
     "execution_count": 3,
     "metadata": {},
     "output_type": "execute_result"
    }
   ],
   "source": [
    "iris.feature_names"
   ]
  },
  {
   "cell_type": "code",
   "execution_count": 4,
   "metadata": {
    "collapsed": true
   },
   "outputs": [],
   "source": [
    "y = iris.target[:100]"
   ]
  },
  {
   "cell_type": "code",
   "execution_count": 5,
   "metadata": {
    "collapsed": true
   },
   "outputs": [],
   "source": [
    "x = iris.data[:100]"
   ]
  },
  {
   "cell_type": "code",
   "execution_count": 6,
   "metadata": {},
   "outputs": [
    {
     "data": {
      "text/plain": [
       "array([[-0.5810659 ,  0.85713543, -1.01435952, -1.03824799],\n",
       "       [-0.89430898, -0.19845007, -1.01435952, -1.03824799],\n",
       "       [-1.20755205,  0.22378413, -1.08374115, -1.03824799],\n",
       "       [-1.36417359,  0.01266703, -0.94497788, -1.03824799],\n",
       "       [-0.73768744,  1.06825253, -1.01435952, -1.03824799]])"
      ]
     },
     "execution_count": 6,
     "metadata": {},
     "output_type": "execute_result"
    }
   ],
   "source": [
    "x = scale(x) # Normalizing dataset\n",
    "x[:5]"
   ]
  },
  {
   "cell_type": "code",
   "execution_count": 7,
   "metadata": {},
   "outputs": [
    {
     "data": {
      "text/plain": [
       "(80, 4)"
      ]
     },
     "execution_count": 7,
     "metadata": {},
     "output_type": "execute_result"
    }
   ],
   "source": [
    "x_train, x_test, y_train, y_test = train_test_split(x,y, test_size=0.2, random_state=100)\n",
    "x_train.shape"
   ]
  },
  {
   "cell_type": "code",
   "execution_count": 8,
   "metadata": {
    "collapsed": true
   },
   "outputs": [],
   "source": [
    "x_1 = nu.ndarray((80))\n",
    "x_2 = nu.ndarray((80))\n",
    "x_3 = nu.ndarray((80))\n",
    "x_4 = nu.ndarray((80))\n",
    "for i in range(80):\n",
    "    x_1[i] = x_train[i][0]\n",
    "    x_2[i] = x_train[i][1]\n",
    "    x_3[i] = x_train[i][2]\n",
    "    x_4[i] = x_train[i][3]"
   ]
  },
  {
   "cell_type": "code",
   "execution_count": 9,
   "metadata": {
    "collapsed": true
   },
   "outputs": [],
   "source": [
    "theta_0 = 0.0001\n",
    "theta_1 = 0.0001\n",
    "theta_2 = 0.0001\n",
    "theta_3 = 0.0001\n",
    "theta_4 = 0.0001"
   ]
  },
  {
   "cell_type": "markdown",
   "metadata": {},
   "source": [
    "### y_pred = theta_0 + theta_1 * x1 + theta_2 * x2 + theta_3 * x3 + theta_4 * x4"
   ]
  },
  {
   "cell_type": "code",
   "execution_count": 10,
   "metadata": {
    "collapsed": true
   },
   "outputs": [],
   "source": [
    "alpha = 0.0005\n",
    "m=y_train.size"
   ]
  },
  {
   "cell_type": "code",
   "execution_count": 11,
   "metadata": {
    "collapsed": true
   },
   "outputs": [],
   "source": [
    "def get_update(x1, x2, x3, x4, y, wt_0, wt_1, wt_2, wt_3, wt_4, m, a):\n",
    "    update_0 = wt_0\n",
    "    update_1 = wt_1\n",
    "    update_2 = wt_2\n",
    "    update_3 = wt_3\n",
    "    update_4 = wt_4\n",
    "    #print( round((1 / m),10))\n",
    "    for i in range(m-1):\n",
    "        update_0 +=  a * (1/m) * (1/(1+nu.exp(((wt_4 * x4[i]) + (wt_3 * x3[i]) + (wt_2 * x2[i]) + (wt_1 * x1[i]) + wt_0))) - y[i]) * (-1)\n",
    "        update_2 +=  a * (1/m) * (1/(1+nu.exp(((wt_4 * x4[i]) + (wt_3 * x3[i]) + (wt_2 * x2[i]) + (wt_1 * x1[i]) + wt_0))) - y[i]) * (-1) * x2[i]\n",
    "        update_3 +=  a * (1/m) * (1/(1+nu.exp(((wt_4 * x4[i]) + (wt_3 * x3[i]) + (wt_2 * x2[i]) + (wt_1 * x1[i]) + wt_0))) - y[i]) * (-1) * x3[i]\n",
    "        update_4 +=  a * (1/m) * (1/(1+nu.exp(((wt_4 * x4[i]) + (wt_3 * x3[i]) + (wt_2 * x2[i]) + (wt_1 * x1[i]) + wt_0))) - y[i]) * (-1) * x4[i]\n",
    "        \n",
    "    return update_0, update_1, update_2, update_3, update_4"
   ]
  },
  {
   "cell_type": "code",
   "execution_count": 12,
   "metadata": {},
   "outputs": [
    {
     "name": "stdout",
     "output_type": "stream",
     "text": [
      "6.56165664228e-05 0.0 -1.76317977579e-05 4.85491891451e-05 5.22038086791e-05\n"
     ]
    }
   ],
   "source": [
    "for i in range(10000):\n",
    "    update_0, update_1, update_2, update_3, update_4 = get_update(x_1, x_2, x_3, x_4, y, theta_0, theta_1, theta_2,  theta_3, theta_4, m, alpha)\n",
    "    theta_0 = theta_0 - update_0\n",
    "    theta_1 = theta_1 - update_1\n",
    "    theta_2 = theta_2 - update_2\n",
    "    theta_3 = theta_3 - update_3\n",
    "    theta_4 = theta_4 - update_4\n",
    "print(theta_0, theta_1, theta_2, theta_3, theta_4)"
   ]
  },
  {
   "cell_type": "code",
   "execution_count": 13,
   "metadata": {
    "collapsed": true
   },
   "outputs": [],
   "source": [
    "theta = nu.array([theta_1, theta_2, theta_3, theta_4])"
   ]
  },
  {
   "cell_type": "code",
   "execution_count": 14,
   "metadata": {},
   "outputs": [
    {
     "data": {
      "text/plain": [
       "array([ -1.09566795e-04,   9.15305097e-05,  -8.95703665e-05,\n",
       "        -6.79945614e-05,  -1.14129392e-04,  -9.32109557e-05,\n",
       "        -1.21928092e-04,  -1.44616288e-04,   1.60291038e-04,\n",
       "        -1.04105911e-04,   1.19294388e-04,   1.14945895e-04,\n",
       "         9.51710990e-05,   8.62600082e-05,   1.00005864e-04,\n",
       "         1.28641216e-04,   1.57004400e-04,  -1.04813814e-04,\n",
       "        -1.12663050e-04,  -1.08100452e-04])"
      ]
     },
     "execution_count": 14,
     "metadata": {},
     "output_type": "execute_result"
    }
   ],
   "source": [
    "g_x = nu.matmul(x_test,theta)\n",
    "g_x"
   ]
  },
  {
   "cell_type": "code",
   "execution_count": 15,
   "metadata": {
    "collapsed": true
   },
   "outputs": [],
   "source": [
    "y_pred = 1/(1+nu.exp((g_x+theta_0)*-1))"
   ]
  },
  {
   "cell_type": "code",
   "execution_count": 16,
   "metadata": {},
   "outputs": [
    {
     "data": {
      "text/plain": [
       "array([ 0.49998901,  0.50003929,  0.49999401,  0.49999941,  0.49998787,\n",
       "        0.4999931 ,  0.49998592,  0.49998025,  0.50005648,  0.49999038,\n",
       "        0.50004623,  0.50004514,  0.5000402 ,  0.50003797,  0.50004141,\n",
       "        0.50004856,  0.50005566,  0.4999902 ,  0.49998824,  0.49998938])"
      ]
     },
     "execution_count": 16,
     "metadata": {},
     "output_type": "execute_result"
    }
   ],
   "source": [
    "y_pred"
   ]
  },
  {
   "cell_type": "code",
   "execution_count": 17,
   "metadata": {
    "collapsed": true
   },
   "outputs": [],
   "source": [
    "def bin(y,size):\n",
    "    for i in range(size):\n",
    "        if y[i]<0.5:\n",
    "            y[i]=0\n",
    "        else:\n",
    "            y[i]=1\n",
    "    return y    "
   ]
  },
  {
   "cell_type": "code",
   "execution_count": 18,
   "metadata": {},
   "outputs": [
    {
     "data": {
      "text/plain": [
       "(array([ 0.,  1.,  0.,  0.,  0.,  0.,  0.,  0.,  1.,  0.,  1.,  1.,  1.,\n",
       "         1.,  1.,  1.,  1.,  0.,  0.,  0.]),\n",
       " array([0, 1, 0, 0, 0, 0, 0, 0, 1, 0, 1, 1, 1, 1, 1, 1, 1, 0, 0, 0]))"
      ]
     },
     "execution_count": 18,
     "metadata": {},
     "output_type": "execute_result"
    }
   ],
   "source": [
    "bin(y_pred,y_pred.size),y_test"
   ]
  },
  {
   "cell_type": "markdown",
   "metadata": {},
   "source": [
    "# TEST ACCURACY"
   ]
  },
  {
   "cell_type": "code",
   "execution_count": 19,
   "metadata": {},
   "outputs": [
    {
     "data": {
      "text/plain": [
       "1.0"
      ]
     },
     "execution_count": 19,
     "metadata": {},
     "output_type": "execute_result"
    }
   ],
   "source": [
    "accuracy_score(y_pred,y_test)"
   ]
  },
  {
   "cell_type": "code",
   "execution_count": 20,
   "metadata": {
    "collapsed": true
   },
   "outputs": [],
   "source": [
    "y_on = nu.matmul(x_train,theta) + theta_0\n",
    "y_o = (1/(1+nu.exp(y_on*-1)))"
   ]
  },
  {
   "cell_type": "markdown",
   "metadata": {},
   "source": [
    "# TRAIN ACCURACY"
   ]
  },
  {
   "cell_type": "code",
   "execution_count": 21,
   "metadata": {},
   "outputs": [
    {
     "data": {
      "text/plain": [
       "1.0"
      ]
     },
     "execution_count": 21,
     "metadata": {},
     "output_type": "execute_result"
    }
   ],
   "source": [
    "accuracy_score(bin(y_o,y_o.size),y_train)"
   ]
  }
 ],
 "metadata": {
  "kernelspec": {
   "display_name": "Python 3",
   "language": "python",
   "name": "python3"
  },
  "language_info": {
   "codemirror_mode": {
    "name": "ipython",
    "version": 3
   },
   "file_extension": ".py",
   "mimetype": "text/x-python",
   "name": "python",
   "nbconvert_exporter": "python",
   "pygments_lexer": "ipython3",
   "version": "3.6.3"
  }
 },
 "nbformat": 4,
 "nbformat_minor": 2
}
