{
 "cells": [
  {
   "cell_type": "markdown",
   "metadata": {},
   "source": [
    "Create a ruleset E that contains rules for following:<br>\n",
    "    1. Age should be in range 0-150\n",
    "    2. Age should be greater than years married\n",
    "    3. Status should be married or single or widowed\n",
    "    4. If age is less than 18: child, less than 65: adult, else elderly"
   ]
  },
  {
   "cell_type": "code",
   "execution_count": 49,
   "metadata": {
    "collapsed": true
   },
   "outputs": [],
   "source": [
    "import numpy as np\n",
    "import pandas as pd\n",
    "import sklearn as skl\n",
    "from __future__ import print_function"
   ]
  },
  {
   "cell_type": "code",
   "execution_count": 8,
   "metadata": {},
   "outputs": [],
   "source": [
    "file = pd.read_csv('people.csv')"
   ]
  },
  {
   "cell_type": "code",
   "execution_count": 36,
   "metadata": {},
   "outputs": [
    {
     "data": {
      "text/html": [
       "<div>\n",
       "<style>\n",
       "    .dataframe thead tr:only-child th {\n",
       "        text-align: right;\n",
       "    }\n",
       "\n",
       "    .dataframe thead th {\n",
       "        text-align: left;\n",
       "    }\n",
       "\n",
       "    .dataframe tbody tr th {\n",
       "        vertical-align: top;\n",
       "    }\n",
       "</style>\n",
       "<table border=\"1\" class=\"dataframe\">\n",
       "  <thead>\n",
       "    <tr style=\"text-align: right;\">\n",
       "      <th></th>\n",
       "      <th>Age</th>\n",
       "      <th>Age_Group</th>\n",
       "      <th>Height</th>\n",
       "      <th>Status</th>\n",
       "      <th>Years_married</th>\n",
       "    </tr>\n",
       "  </thead>\n",
       "  <tbody>\n",
       "    <tr>\n",
       "      <th>0</th>\n",
       "      <td>21</td>\n",
       "      <td>adult</td>\n",
       "      <td>6.0</td>\n",
       "      <td>single</td>\n",
       "      <td>-1</td>\n",
       "    </tr>\n",
       "    <tr>\n",
       "      <th>1</th>\n",
       "      <td>2</td>\n",
       "      <td>child</td>\n",
       "      <td>3.0</td>\n",
       "      <td>married</td>\n",
       "      <td>0</td>\n",
       "    </tr>\n",
       "    <tr>\n",
       "      <th>2</th>\n",
       "      <td>18</td>\n",
       "      <td>adult</td>\n",
       "      <td>5.7</td>\n",
       "      <td>married</td>\n",
       "      <td>20</td>\n",
       "    </tr>\n",
       "    <tr>\n",
       "      <th>3</th>\n",
       "      <td>221</td>\n",
       "      <td>elderly</td>\n",
       "      <td>5.0</td>\n",
       "      <td>widowed</td>\n",
       "      <td>2</td>\n",
       "    </tr>\n",
       "    <tr>\n",
       "      <th>4</th>\n",
       "      <td>34</td>\n",
       "      <td>child</td>\n",
       "      <td>-7.0</td>\n",
       "      <td>married</td>\n",
       "      <td>3</td>\n",
       "    </tr>\n",
       "  </tbody>\n",
       "</table>\n",
       "</div>"
      ],
      "text/plain": [
       "   Age Age_Group  Height   Status  Years_married\n",
       "0   21     adult     6.0   single             -1\n",
       "1    2     child     3.0  married              0\n",
       "2   18     adult     5.7  married             20\n",
       "3  221   elderly     5.0  widowed              2\n",
       "4   34     child    -7.0  married              3"
      ]
     },
     "execution_count": 36,
     "metadata": {},
     "output_type": "execute_result"
    }
   ],
   "source": [
    "file"
   ]
  },
  {
   "cell_type": "code",
   "execution_count": 48,
   "metadata": {},
   "outputs": [],
   "source": [
    "\n",
    "rules = [ lambda x: True if int(x[0])>=0 and int(x[0])<=150 else False,\n",
    "          lambda x: True if int(x[0])>int(x[4]) else False,\n",
    "          lambda x: True if x[3]=='single' or x[3]=='married' or x[3]=='single' else False,\n",
    "          lambda x: True if (int(x[0])<=18 and x[1]=='child') or (int(x[0])<=65 and x[1]=='adult') or \n",
    "                            (int(x[0])>65 and x[1]=='elderly') else False]"
   ]
  },
  {
   "cell_type": "code",
   "execution_count": 52,
   "metadata": {},
   "outputs": [
    {
     "name": "stdout",
     "output_type": "stream",
     "text": [
      "Rule 1:  True  Rule 2:  True  Rule 3:  True  Rule 4:  True\n",
      "Rule 1:  True  Rule 2:  True  Rule 3:  True  Rule 4:  True\n",
      "Rule 1:  True  Rule 2:  False  Rule 3:  True  Rule 4:  True\n",
      "Rule 1:  False  Rule 2:  True  Rule 3:  False  Rule 4:  True\n",
      "Rule 1:  True  Rule 2:  True  Rule 3:  True  Rule 4:  False\n"
     ]
    }
   ],
   "source": [
    "for i in range(5):\n",
    "    print('Rule 1: ',rules[0](file.values[i]),' Rule 2: ',rules[1](file.values[i]),' Rule 3: ',rules[2](file.values[i]),' Rule 4: ',rules[3](file.values[i])) "
   ]
  }
 ],
 "metadata": {
  "kernelspec": {
   "display_name": "Python 3",
   "language": "python",
   "name": "python3"
  },
  "language_info": {
   "codemirror_mode": {
    "name": "ipython",
    "version": 3
   },
   "file_extension": ".py",
   "mimetype": "text/x-python",
   "name": "python",
   "nbconvert_exporter": "python",
   "pygments_lexer": "ipython3",
   "version": "3.6.3"
  }
 },
 "nbformat": 4,
 "nbformat_minor": 2
}
