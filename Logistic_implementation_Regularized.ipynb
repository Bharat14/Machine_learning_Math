{
 "cells": [
  {
   "cell_type": "code",
   "execution_count": 1,
   "metadata": {
    "collapsed": true
   },
   "outputs": [],
   "source": [
    "from sklearn.datasets import load_iris\n",
    "from sklearn.metrics import accuracy_score\n",
    "import numpy as nu\n",
    "from sklearn.model_selection import train_test_split\n",
    "import matplotlib.pyplot as plt\n",
    "from sklearn.preprocessing import scale\n",
    "%matplotlib inline"
   ]
  },
  {
   "cell_type": "code",
   "execution_count": 2,
   "metadata": {
    "collapsed": true
   },
   "outputs": [],
   "source": [
    "iris=load_iris()"
   ]
  },
  {
   "cell_type": "code",
   "execution_count": 3,
   "metadata": {},
   "outputs": [
    {
     "data": {
      "text/plain": [
       "['sepal length (cm)',\n",
       " 'sepal width (cm)',\n",
       " 'petal length (cm)',\n",
       " 'petal width (cm)']"
      ]
     },
     "execution_count": 3,
     "metadata": {},
     "output_type": "execute_result"
    }
   ],
   "source": [
    "iris.feature_names"
   ]
  },
  {
   "cell_type": "code",
   "execution_count": 4,
   "metadata": {
    "collapsed": true
   },
   "outputs": [],
   "source": [
    "y = iris.target[:100]"
   ]
  },
  {
   "cell_type": "code",
   "execution_count": 5,
   "metadata": {
    "collapsed": true
   },
   "outputs": [],
   "source": [
    "x = iris.data[:100]"
   ]
  },
  {
   "cell_type": "code",
   "execution_count": 24,
   "metadata": {},
   "outputs": [
    {
     "data": {
      "text/plain": [
       "array([[-0.5810659 ,  0.85713543, -1.01435952, -1.03824799],\n",
       "       [-0.89430898, -0.19845007, -1.01435952, -1.03824799],\n",
       "       [-1.20755205,  0.22378413, -1.08374115, -1.03824799],\n",
       "       [-1.36417359,  0.01266703, -0.94497788, -1.03824799],\n",
       "       [-0.73768744,  1.06825253, -1.01435952, -1.03824799]])"
      ]
     },
     "execution_count": 24,
     "metadata": {},
     "output_type": "execute_result"
    }
   ],
   "source": [
    "x = scale(x) #NORMALIZE X\n",
    "x[:5]"
   ]
  },
  {
   "cell_type": "code",
   "execution_count": 7,
   "metadata": {},
   "outputs": [
    {
     "data": {
      "text/plain": [
       "(80, 4)"
      ]
     },
     "execution_count": 7,
     "metadata": {},
     "output_type": "execute_result"
    }
   ],
   "source": [
    "x_train, x_test, y_train, y_test = train_test_split(x,y, test_size=0.2, random_state = 101)\n",
    "x_train.shape"
   ]
  },
  {
   "cell_type": "code",
   "execution_count": 8,
   "metadata": {
    "collapsed": true
   },
   "outputs": [],
   "source": [
    "x_1 = nu.ndarray((80))\n",
    "x_2 = nu.ndarray((80))\n",
    "x_3 = nu.ndarray((80))\n",
    "x_4 = nu.ndarray((80))\n",
    "for i in range(80):\n",
    "    x_1[i] = x_train[i][0]\n",
    "    x_2[i] = x_train[i][1]\n",
    "    x_3[i] = x_train[i][2]\n",
    "    x_4[i] = x_train[i][3]"
   ]
  },
  {
   "cell_type": "code",
   "execution_count": 9,
   "metadata": {
    "collapsed": true
   },
   "outputs": [],
   "source": [
    "theta_0 = nu.exp(-6)\n",
    "theta_1 = nu.exp(-6)\n",
    "theta_2 = nu.exp(-6)\n",
    "theta_3 = nu.exp(-6)\n",
    "theta_4 = nu.exp(-6)"
   ]
  },
  {
   "cell_type": "markdown",
   "metadata": {},
   "source": [
    "### y_pred = theta_0 + theta_1 * x1 + theta_2 * x2 + theta_3 * x3 + theta_4 * x4"
   ]
  },
  {
   "cell_type": "code",
   "execution_count": 10,
   "metadata": {
    "collapsed": true
   },
   "outputs": [],
   "source": [
    "alpha = 0.00005\n",
    "reg_p = 1\n",
    "m=y_train.size"
   ]
  },
  {
   "cell_type": "code",
   "execution_count": 11,
   "metadata": {
    "collapsed": true
   },
   "outputs": [],
   "source": [
    "def get_update(x1, x2, x3, x4, y, wt_0, wt_1, wt_2, wt_3, wt_4, m, a, reg_p):\n",
    "    update_0 = wt_0\n",
    "    update_1 = wt_1\n",
    "    update_2 = wt_2\n",
    "    update_3 = wt_3\n",
    "    update_4 = wt_4\n",
    "    #print( round((1 / m),10))\n",
    "    for i in range(m-1):\n",
    "        update_0 -=  ((a * (1/m) * (1/(1+nu.exp(((wt_4 * x4[i]) + (wt_3 * x3[i]) + (wt_2 * x2[i]) + (wt_1 * x1[i]) + wt_0))) - y[i]) * (-1)) + (alpha * reg_p * (1/m)))\n",
    "        update_1 -=  ((a * (1/m) * (1/(1+nu.exp(((wt_4 * x4[i]) + (wt_3 * x3[i]) + (wt_2 * x2[i]) + (wt_1 * x1[i]) + wt_0))) - y[i]) * (-1) * x1[i]) + (alpha * reg_p * (1/m)))\n",
    "        update_2 -=  ((a * (1/m) * (1/(1+nu.exp(((wt_4 * x4[i]) + (wt_3 * x3[i]) + (wt_2 * x2[i]) + (wt_1 * x1[i]) + wt_0))) - y[i]) * (-1) * x2[i]) + (alpha * reg_p * (1/m)))\n",
    "        update_3 -=  ((a * (1/m) * (1/(1+nu.exp(((wt_4 * x4[i]) + (wt_3 * x3[i]) + (wt_2 * x2[i]) + (wt_1 * x1[i]) + wt_0))) - y[i]) * (-1) * x3[i]) + (alpha * reg_p * (1/m)))\n",
    "        update_4 -=  ((a * (1/m) * (1/(1+nu.exp(((wt_4 * x4[i]) + (wt_3 * x3[i]) + (wt_2 * x2[i]) + (wt_1 * x1[i]) + wt_0))) - y[i]) * (-1) * x4[i]) + (alpha * reg_p * (1/m)))\n",
    "        \n",
    "    return update_0, update_1, update_2, update_3, update_4"
   ]
  },
  {
   "cell_type": "code",
   "execution_count": 12,
   "metadata": {},
   "outputs": [
    {
     "name": "stdout",
     "output_type": "stream",
     "text": [
      "4.28131052747e-05 4.70716343975e-05 4.67186027119e-05 4.85311816931e-05 4.8092415884e-05\n"
     ]
    }
   ],
   "source": [
    "for i in range(10000):\n",
    "    update_0, update_1, update_2, update_3, update_4 = get_update(x_1, x_2, x_3, x_4, y, theta_0, theta_1, theta_2,  theta_3, theta_4, m, alpha, reg_p)\n",
    "    theta_0 = theta_0 - update_0\n",
    "    theta_1 = theta_1 - update_1\n",
    "    theta_2 = theta_2 - update_2\n",
    "    theta_3 = theta_3 - update_3\n",
    "    theta_4 = theta_4 - update_4\n",
    "print(theta_0, theta_1, theta_2, theta_3, theta_4)"
   ]
  },
  {
   "cell_type": "code",
   "execution_count": 13,
   "metadata": {
    "collapsed": true
   },
   "outputs": [],
   "source": [
    "theta = nu.array([theta_1, theta_2, theta_3, theta_4])"
   ]
  },
  {
   "cell_type": "code",
   "execution_count": 14,
   "metadata": {},
   "outputs": [
    {
     "data": {
      "text/plain": [
       "array([ -1.11942468e-05,  -1.50527816e-04,  -5.29641199e-05,\n",
       "         4.54313248e-05,   2.58267439e-05,  -4.63033884e-05,\n",
       "         1.26987668e-04,   1.95126885e-04,  -1.24657367e-04,\n",
       "        -2.43891027e-04,   5.57676986e-05,  -1.36421038e-04,\n",
       "        -1.49364888e-04,   8.17510616e-05,  -1.45832907e-04,\n",
       "        -5.37753810e-05,   2.37560461e-04,  -2.50846520e-05,\n",
       "        -1.59414842e-04,  -4.86292443e-05])"
      ]
     },
     "execution_count": 14,
     "metadata": {},
     "output_type": "execute_result"
    }
   ],
   "source": [
    "g_x = nu.matmul(x_test,theta)\n",
    "g_x"
   ]
  },
  {
   "cell_type": "code",
   "execution_count": 15,
   "metadata": {
    "collapsed": true
   },
   "outputs": [],
   "source": [
    "y_pred = 1/(1+nu.exp((g_x+theta_0)*-1))"
   ]
  },
  {
   "cell_type": "code",
   "execution_count": 16,
   "metadata": {},
   "outputs": [
    {
     "data": {
      "text/plain": [
       "array([ 0.5000079 ,  0.49997307,  0.49999746,  0.50002206,  0.50001716,\n",
       "        0.49999913,  0.50004245,  0.50005948,  0.49997954,  0.49994973,\n",
       "        0.50002465,  0.4999766 ,  0.49997336,  0.50003114,  0.49997425,\n",
       "        0.49999726,  0.50007009,  0.50000443,  0.49997085,  0.49999855])"
      ]
     },
     "execution_count": 16,
     "metadata": {},
     "output_type": "execute_result"
    }
   ],
   "source": [
    "y_pred"
   ]
  },
  {
   "cell_type": "code",
   "execution_count": 17,
   "metadata": {
    "collapsed": true
   },
   "outputs": [],
   "source": [
    "def bin(y,size):\n",
    "    for i in range(size):\n",
    "        if y[i]<0.5:\n",
    "            y[i]=0\n",
    "        else:\n",
    "            y[i]=1\n",
    "    return y    "
   ]
  },
  {
   "cell_type": "code",
   "execution_count": 18,
   "metadata": {},
   "outputs": [
    {
     "data": {
      "text/plain": [
       "(array([ 1.,  0.,  0.,  1.,  1.,  0.,  1.,  1.,  0.,  0.,  1.,  0.,  0.,\n",
       "         1.,  0.,  0.,  1.,  1.,  0.,  0.]),\n",
       " array([0, 0, 0, 1, 1, 0, 1, 1, 0, 0, 1, 0, 0, 1, 0, 0, 1, 0, 0, 0]))"
      ]
     },
     "execution_count": 18,
     "metadata": {},
     "output_type": "execute_result"
    }
   ],
   "source": [
    "bin(y_pred,y_pred.size),y_test"
   ]
  },
  {
   "cell_type": "markdown",
   "metadata": {},
   "source": [
    "# TEST ACCURACY"
   ]
  },
  {
   "cell_type": "code",
   "execution_count": 19,
   "metadata": {},
   "outputs": [
    {
     "data": {
      "text/plain": [
       "0.90000000000000002"
      ]
     },
     "execution_count": 19,
     "metadata": {},
     "output_type": "execute_result"
    }
   ],
   "source": [
    "accuracy_score(y_pred,y_test)"
   ]
  },
  {
   "cell_type": "code",
   "execution_count": 20,
   "metadata": {
    "collapsed": true
   },
   "outputs": [],
   "source": [
    "y_on = nu.matmul(x_train,theta) + theta_0\n",
    "y_o = (1/(1+nu.exp(y_on*-1)))"
   ]
  },
  {
   "cell_type": "markdown",
   "metadata": {},
   "source": [
    "# TRAIN ACCURACY"
   ]
  },
  {
   "cell_type": "code",
   "execution_count": 21,
   "metadata": {},
   "outputs": [
    {
     "data": {
      "text/plain": [
       "0.86250000000000004"
      ]
     },
     "execution_count": 21,
     "metadata": {},
     "output_type": "execute_result"
    }
   ],
   "source": [
    "accuracy_score(bin(y_o,y_o.size),y_train)"
   ]
  },
  {
   "cell_type": "code",
   "execution_count": null,
   "metadata": {
    "collapsed": true
   },
   "outputs": [],
   "source": []
  }
 ],
 "metadata": {
  "kernelspec": {
   "display_name": "Python 3",
   "language": "python",
   "name": "python3"
  },
  "language_info": {
   "codemirror_mode": {
    "name": "ipython",
    "version": 3
   },
   "file_extension": ".py",
   "mimetype": "text/x-python",
   "name": "python",
   "nbconvert_exporter": "python",
   "pygments_lexer": "ipython3",
   "version": "3.6.3"
  }
 },
 "nbformat": 4,
 "nbformat_minor": 2
}
